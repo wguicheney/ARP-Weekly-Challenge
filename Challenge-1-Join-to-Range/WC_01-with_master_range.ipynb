{
 "cells": [
  {
   "cell_type": "markdown",
   "metadata": {},
   "source": [
    "# Weekly Challenge 01\n",
    "\n",
    "*Original URL* https://community.alteryx.com/t5/Weekly-Challenge/Challenge-1-Join-to-Range/td-p/36621 and [**My Alteryx Approach**](https://github.com/dsmdavid/Alteryx-Weekly-Challenge/tree/master/sub_Challenge%2301)\n",
    "\n",
    "## Brief\n",
    "A company in Australia has source data which is made up of a series of postal codes (eg. 2000, 2001, 2002 etc.) amongst some other data fields. They have a separate reference table which contains postcode ranges (eg. 2000 to 2002) which they would like to use to match/filter their main data.\n",
    "\n",
    "\n",
    "Each Customer Record needs to be joined to the Lookup table based on a Postal Area Ranged region. Then finally summarize the customer data by Region, Sales Rep, and Responder, then a count of customers.\n",
    "\n",
    " \n",
    "\n",
    "Check and see what the result should look like by looking at the data labeled 'Output'.  Your mission is to take the input files and blend them so your result matches the output shown.  Good luck!\n"
   ]
  },
  {
   "cell_type": "code",
   "execution_count": 1,
   "metadata": {
    "collapsed": true
   },
   "outputs": [],
   "source": [
    "import pandas as pd"
   ]
  },
  {
   "cell_type": "markdown",
   "metadata": {},
   "source": [
    "# Explore"
   ]
  },
  {
   "cell_type": "markdown",
   "metadata": {},
   "source": [
    "#### Read files"
   ]
  },
  {
   "cell_type": "code",
   "execution_count": 2,
   "metadata": {
    "collapsed": true
   },
   "outputs": [],
   "source": [
    "df_range = pd.read_csv(\"./01_files/range.csv\")\n",
    "df_customers = pd.read_csv(\"./01_files/customer.csv\")"
   ]
  },
  {
   "cell_type": "markdown",
   "metadata": {},
   "source": [
    "## Approach I want to follow:\n",
    "1. Create a master range list that assigns each postal code to a range.\n",
    "2. Join and summarize."
   ]
  },
  {
   "cell_type": "code",
   "execution_count": 3,
   "metadata": {
    "collapsed": true
   },
   "outputs": [],
   "source": [
    "#create columns with min & max for each range:\n",
    "df_range['min'] = df_range['Range'].apply(lambda x: int(x.split('-')[0]))\n",
    "df_range['max'] = df_range['Range'].apply(lambda x: int(x.split('-')[1]))"
   ]
  },
  {
   "cell_type": "code",
   "execution_count": 4,
   "metadata": {
    "collapsed": true
   },
   "outputs": [],
   "source": [
    "def assignRange(postcode):\n",
    "    '''Checks the postcode against the range.\n",
    "    Probably it would have been better to create first a 2000-2100 list to use as a master --i.e. \"generate rows\".'''\n",
    "    postcode = int(postcode)\n",
    "    for x in df_range.index:\n",
    "        if postcode >= df_range.ix[x]['min'] and postcode <= df_range.ix[x]['max']:\n",
    "            return df_range.ix[x]['Range']"
   ]
  },
  {
   "cell_type": "code",
   "execution_count": 5,
   "metadata": {},
   "outputs": [
    {
     "name": "stderr",
     "output_type": "stream",
     "text": [
      "C:\\ProgramData\\Anaconda3\\lib\\site-packages\\ipykernel_launcher.py:6: DeprecationWarning: \n",
      ".ix is deprecated. Please use\n",
      ".loc for label based indexing or\n",
      ".iloc for positional indexing\n",
      "\n",
      "See the documentation here:\n",
      "http://pandas.pydata.org/pandas-docs/stable/indexing.html#ix-indexer-is-deprecated\n",
      "  \n"
     ]
    }
   ],
   "source": [
    "#Create master range: this is similar to the \"generate rows\"\n",
    "key_ranges = {}\n",
    "for i in range(2000,2100):\n",
    "    key_ranges[i] = assignRange(i)"
   ]
  },
  {
   "cell_type": "code",
   "execution_count": 6,
   "metadata": {},
   "outputs": [
    {
     "data": {
      "text/html": [
       "<div>\n",
       "<style>\n",
       "    .dataframe thead tr:only-child th {\n",
       "        text-align: right;\n",
       "    }\n",
       "\n",
       "    .dataframe thead th {\n",
       "        text-align: left;\n",
       "    }\n",
       "\n",
       "    .dataframe tbody tr th {\n",
       "        vertical-align: top;\n",
       "    }\n",
       "</style>\n",
       "<table border=\"1\" class=\"dataframe\">\n",
       "  <thead>\n",
       "    <tr style=\"text-align: right;\">\n",
       "      <th></th>\n",
       "      <th>Customer ID</th>\n",
       "      <th>Store Number</th>\n",
       "      <th>Customer Segment</th>\n",
       "      <th>Responder</th>\n",
       "      <th>Postal Area</th>\n",
       "      <th>Range_index</th>\n",
       "    </tr>\n",
       "  </thead>\n",
       "  <tbody>\n",
       "    <tr>\n",
       "      <th>0</th>\n",
       "      <td>2</td>\n",
       "      <td>100</td>\n",
       "      <td>Corporate</td>\n",
       "      <td>No</td>\n",
       "      <td>2086</td>\n",
       "      <td>2080-2100</td>\n",
       "    </tr>\n",
       "    <tr>\n",
       "      <th>1</th>\n",
       "      <td>3</td>\n",
       "      <td>100</td>\n",
       "      <td>Corporate</td>\n",
       "      <td>No</td>\n",
       "      <td>2051</td>\n",
       "      <td>2040-2059</td>\n",
       "    </tr>\n",
       "    <tr>\n",
       "      <th>2</th>\n",
       "      <td>5</td>\n",
       "      <td>100</td>\n",
       "      <td>Home Office</td>\n",
       "      <td>No</td>\n",
       "      <td>2077</td>\n",
       "      <td>2060-2079</td>\n",
       "    </tr>\n",
       "    <tr>\n",
       "      <th>3</th>\n",
       "      <td>6</td>\n",
       "      <td>106</td>\n",
       "      <td>Home Office</td>\n",
       "      <td>No</td>\n",
       "      <td>2004</td>\n",
       "      <td>2000-2019</td>\n",
       "    </tr>\n",
       "    <tr>\n",
       "      <th>4</th>\n",
       "      <td>8</td>\n",
       "      <td>101</td>\n",
       "      <td>Home Office</td>\n",
       "      <td>No</td>\n",
       "      <td>2010</td>\n",
       "      <td>2000-2019</td>\n",
       "    </tr>\n",
       "  </tbody>\n",
       "</table>\n",
       "</div>"
      ],
      "text/plain": [
       "   Customer ID  Store Number Customer Segment Responder  Postal Area  \\\n",
       "0            2           100        Corporate        No         2086   \n",
       "1            3           100        Corporate        No         2051   \n",
       "2            5           100      Home Office        No         2077   \n",
       "3            6           106      Home Office        No         2004   \n",
       "4            8           101      Home Office        No         2010   \n",
       "\n",
       "  Range_index  \n",
       "0   2080-2100  \n",
       "1   2040-2059  \n",
       "2   2060-2079  \n",
       "3   2000-2019  \n",
       "4   2000-2019  "
      ]
     },
     "execution_count": 6,
     "metadata": {},
     "output_type": "execute_result"
    }
   ],
   "source": [
    "#Apply the dictionary just created\n",
    "df_customers['Range_index'] = df_customers['Postal Area'].map(key_ranges)\n",
    "\n",
    "df_customers.head()"
   ]
  },
  {
   "cell_type": "code",
   "execution_count": 7,
   "metadata": {},
   "outputs": [
    {
     "data": {
      "text/html": [
       "<div>\n",
       "<style>\n",
       "    .dataframe thead tr:only-child th {\n",
       "        text-align: right;\n",
       "    }\n",
       "\n",
       "    .dataframe thead th {\n",
       "        text-align: left;\n",
       "    }\n",
       "\n",
       "    .dataframe tbody tr th {\n",
       "        vertical-align: top;\n",
       "    }\n",
       "</style>\n",
       "<table border=\"1\" class=\"dataframe\">\n",
       "  <thead>\n",
       "    <tr style=\"text-align: right;\">\n",
       "      <th></th>\n",
       "      <th>Customer ID</th>\n",
       "      <th>Store Number</th>\n",
       "      <th>Customer Segment</th>\n",
       "      <th>Responder</th>\n",
       "      <th>Postal Area</th>\n",
       "      <th>Range_index</th>\n",
       "      <th>Range</th>\n",
       "      <th>Region</th>\n",
       "      <th>Sales Rep</th>\n",
       "      <th>Expect Revenue</th>\n",
       "      <th>min</th>\n",
       "      <th>max</th>\n",
       "    </tr>\n",
       "  </thead>\n",
       "  <tbody>\n",
       "    <tr>\n",
       "      <th>0</th>\n",
       "      <td>2</td>\n",
       "      <td>100</td>\n",
       "      <td>Corporate</td>\n",
       "      <td>No</td>\n",
       "      <td>2086</td>\n",
       "      <td>2080-2100</td>\n",
       "      <td>2080-2100</td>\n",
       "      <td>R5</td>\n",
       "      <td>Paul</td>\n",
       "      <td>1232345</td>\n",
       "      <td>2080</td>\n",
       "      <td>2100</td>\n",
       "    </tr>\n",
       "    <tr>\n",
       "      <th>1</th>\n",
       "      <td>23</td>\n",
       "      <td>107</td>\n",
       "      <td>Corporate</td>\n",
       "      <td>Yes</td>\n",
       "      <td>2095</td>\n",
       "      <td>2080-2100</td>\n",
       "      <td>2080-2100</td>\n",
       "      <td>R5</td>\n",
       "      <td>Paul</td>\n",
       "      <td>1232345</td>\n",
       "      <td>2080</td>\n",
       "      <td>2100</td>\n",
       "    </tr>\n",
       "    <tr>\n",
       "      <th>2</th>\n",
       "      <td>43</td>\n",
       "      <td>104</td>\n",
       "      <td>Consumer</td>\n",
       "      <td>No</td>\n",
       "      <td>2089</td>\n",
       "      <td>2080-2100</td>\n",
       "      <td>2080-2100</td>\n",
       "      <td>R5</td>\n",
       "      <td>Paul</td>\n",
       "      <td>1232345</td>\n",
       "      <td>2080</td>\n",
       "      <td>2100</td>\n",
       "    </tr>\n",
       "    <tr>\n",
       "      <th>3</th>\n",
       "      <td>52</td>\n",
       "      <td>103</td>\n",
       "      <td>Corporate</td>\n",
       "      <td>No</td>\n",
       "      <td>2089</td>\n",
       "      <td>2080-2100</td>\n",
       "      <td>2080-2100</td>\n",
       "      <td>R5</td>\n",
       "      <td>Paul</td>\n",
       "      <td>1232345</td>\n",
       "      <td>2080</td>\n",
       "      <td>2100</td>\n",
       "    </tr>\n",
       "    <tr>\n",
       "      <th>4</th>\n",
       "      <td>55</td>\n",
       "      <td>101</td>\n",
       "      <td>Home Office</td>\n",
       "      <td>No</td>\n",
       "      <td>2095</td>\n",
       "      <td>2080-2100</td>\n",
       "      <td>2080-2100</td>\n",
       "      <td>R5</td>\n",
       "      <td>Paul</td>\n",
       "      <td>1232345</td>\n",
       "      <td>2080</td>\n",
       "      <td>2100</td>\n",
       "    </tr>\n",
       "  </tbody>\n",
       "</table>\n",
       "</div>"
      ],
      "text/plain": [
       "   Customer ID  Store Number Customer Segment Responder  Postal Area  \\\n",
       "0            2           100        Corporate        No         2086   \n",
       "1           23           107        Corporate       Yes         2095   \n",
       "2           43           104         Consumer        No         2089   \n",
       "3           52           103        Corporate        No         2089   \n",
       "4           55           101      Home Office        No         2095   \n",
       "\n",
       "  Range_index      Range Region Sales Rep  Expect Revenue   min   max  \n",
       "0   2080-2100  2080-2100     R5      Paul         1232345  2080  2100  \n",
       "1   2080-2100  2080-2100     R5      Paul         1232345  2080  2100  \n",
       "2   2080-2100  2080-2100     R5      Paul         1232345  2080  2100  \n",
       "3   2080-2100  2080-2100     R5      Paul         1232345  2080  2100  \n",
       "4   2080-2100  2080-2100     R5      Paul         1232345  2080  2100  "
      ]
     },
     "execution_count": 7,
     "metadata": {},
     "output_type": "execute_result"
    }
   ],
   "source": [
    "#Create the join\n",
    "df_flat = pd.merge(df_customers, df_range, how = 'inner', left_on='Range_index', right_on='Range')\n",
    "\n",
    "df_flat.head()"
   ]
  },
  {
   "cell_type": "code",
   "execution_count": 8,
   "metadata": {},
   "outputs": [
    {
     "data": {
      "text/plain": [
       "Region  Sales Rep  Responder\n",
       "R1      John       No           476\n",
       "                   Yes           76\n",
       "R2      Ted        No           415\n",
       "                   Yes           87\n",
       "R3      Nick       No           493\n",
       "                   Yes           92\n",
       "R4      Mike       No           430\n",
       "                   Yes           82\n",
       "R5      Paul       No           411\n",
       "                   Yes           88\n",
       "Name: Customer ID, dtype: int64"
      ]
     },
     "execution_count": 8,
     "metadata": {},
     "output_type": "execute_result"
    }
   ],
   "source": [
    "#Summarize\n",
    "df_flat.groupby(by=['Region','Sales Rep','Responder']).count()['Customer ID']"
   ]
  },
  {
   "cell_type": "code",
   "execution_count": null,
   "metadata": {
    "collapsed": true
   },
   "outputs": [],
   "source": []
  }
 ],
 "metadata": {
  "kernelspec": {
   "display_name": "Python 3",
   "language": "python",
   "name": "python3"
  },
  "language_info": {
   "codemirror_mode": {
    "name": "ipython",
    "version": 3
   },
   "file_extension": ".py",
   "mimetype": "text/x-python",
   "name": "python",
   "nbconvert_exporter": "python",
   "pygments_lexer": "ipython3",
   "version": "3.6.3"
  }
 },
 "nbformat": 4,
 "nbformat_minor": 2
}
